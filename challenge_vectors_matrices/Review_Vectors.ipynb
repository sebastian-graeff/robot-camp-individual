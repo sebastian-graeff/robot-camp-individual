{
 "cells": [
  {
   "cell_type": "markdown",
   "id": "e906e58b",
   "metadata": {},
   "source": [
    "Welcome to the review of vectors and matrices. Vectors and matrices provide a foundation for various mathematical operations, your understanding of them will be essential for effectively exploring and interpreting real-world social data. By the end of this review, I hope you'll be familiar with basic data manipulation and get a feel for how powerful they can be."
   ]
  },
  {
   "cell_type": "markdown",
   "id": "e44817be",
   "metadata": {},
   "source": [
    "## Learning goals\n",
    "Refresh your knowledge of vectors and matrices:\n",
    "- Vector (column) addition, subtraction, multiplication\n",
    "- Data merging and deleting\n",
    "- Data filtering and grouping"
   ]
  },
  {
   "cell_type": "markdown",
   "id": "6faa8bd0",
   "metadata": {},
   "source": [
    "# Background story"
   ]
  },
  {
   "cell_type": "markdown",
   "id": "1ad4f614",
   "metadata": {},
   "source": [
    "At the end of one year, a trading company has hired you to help them calculate their trading results. The company is connecting to a large number of buyers, each of them has bought a number of products from them. The products of the company are in three different categories: Toys, Decorations and Clothing. For each product, they recorded its price (as Unit_Price in the unit of dollars) and the quantity sold (Sales_Quantity). They also inclueded its price and the quantity sold last year (as Unit_Price_Last_Year and Sales_Quantity_Last_Year). The recorded data is stored in the table \"data_company_A_external.csv\".\n",
    "\n",
    "Use your knowledge of vector manipulation to help them in the following questions.\n",
    "\n",
    "Note: All the data in this file are not real data, the actual situation will be more complicated than this."
   ]
  },
  {
   "cell_type": "code",
   "execution_count": 1,
   "id": "cd584357",
   "metadata": {},
   "outputs": [],
   "source": [
    "import base64\n",
    "import numpy as np\n",
    "import pandas as pd\n",
    "import matplotlib.pyplot as plt"
   ]
  },
  {
   "cell_type": "code",
   "execution_count": 2,
   "id": "6eda4f6b",
   "metadata": {},
   "outputs": [],
   "source": [
    "# Read your data\n",
    "external_df = pd.read_csv('data_company_A_external.csv')"
   ]
  },
  {
   "cell_type": "markdown",
   "id": "8cb7e486",
   "metadata": {},
   "source": [
    "# Bronze medal: Vector (column) addition, multiplication\n",
    "\n",
    "a) As an important parameter of the trading status for this year, they wish they can know their total sales value for this year. The sales value of one product is the unit price ($) times the sales quantity (number). The value of total sales is the value of all product sales combined. And this is exactly the dot product of vectors.\n",
    "\n",
    "In other words, the equations of sales are:\n",
    "\n",
    "#### $\\text{Sales}_{\\text{ for one product}} = \\text{Unit Price} \\times \\text{Sales Quantity}$\n",
    "\n",
    "#### $\\text{Total Sales} = \\text{Sum of sales for all products}$\n",
    "\n",
    "If $V_{\\text{Unit Price}}$ is the vector representing all unit price, and $V_{\\text{Sales Quantity}}$ is the one for sales quantity, the equation will be:\n",
    "\n",
    "### $V_{\\text{Total Sales}} = V_{\\text{Unit Price}} \\cdot V_{\\text{Sales Quantity}}$\n",
    "\n",
    "Can you help them calculate their total sales for this year? (Try to manipulate on the entire column rather than each product)"
   ]
  },
  {
   "cell_type": "code",
   "execution_count": 17,
   "id": "229e6313",
   "metadata": {},
   "outputs": [
    {
     "name": "stdout",
     "output_type": "stream",
     "text": [
      "The total sales this year is: 20348107.40\n"
     ]
    }
   ],
   "source": [
    "# Complete this function to print the total sales\n",
    "def compute_total_sales(df,unit,sales):\n",
    "    multiply_vars = df[unit] * df[sales]\n",
    "    sum_sales = np.sum(multiply_vars)\n",
    "    return sum_sales\n",
    "\n",
    "print(\"The total sales this year is: {:.2f}\".format(compute_total_sales(external_df,\"Unit_Price\",\"Sales_Quantity\")))"
   ]
  },
  {
   "cell_type": "code",
   "execution_count": 18,
   "id": "90c21a45-eab8-4f35-bd7d-298932aa4f08",
   "metadata": {},
   "outputs": [
    {
     "name": "stdout",
     "output_type": "stream",
     "text": [
      "def compute_total_sales(df):\n",
      "    total_sales = df['Unit_Price'].dot(df['Sales_Quantity'])\n",
      "    return total_sales\n",
      "\n",
      "The total sales this year is: 20348107.40\n"
     ]
    }
   ],
   "source": [
    "# Run the following code to show one of the possible answer\n",
    "print(base64.b64decode(\"ZGVmIGNvbXB1dGVfdG90YWxfc2FsZXMoZGYpOgogICAgdG90YWxfc2FsZXMgPSBkZlsnVW5pdF9QcmljZSddLmRvdChkZlsnU2FsZXNfUXVhbnRpdHknXSkKICAgIHJldHVybiB0b3RhbF9zYWxlcwoKVGhlIHRvdGFsIHNhbGVzIHRoaXMgeWVhciBpczogMjAzNDgxMDcuNDA=\").decode())"
   ]
  },
  {
   "cell_type": "markdown",
   "id": "9cdc0d28-c9e5-424d-85c6-a8dc12257198",
   "metadata": {},
   "source": [
    "b) Their data also contains information from last year. So we can calculate growth and growth rate of total sales compared to last year.\n",
    "\n",
    "The growth and growth rate are parameters that describes how much a particular variable, like total sales here, has grown over a period of time. Growth of total sales is calculated by subtracting the total sales of the previous year from the total sales of the current year. It answers the question, \"By how much did our sales figures change when compared to last year?\"\n",
    "\n",
    "Mathematically, the formula to calculate sales growth is:\n",
    "\n",
    "$ \\text{Growth} = \\text{Total Sales This Year} - \\text{Total Sales Last Year} $\n",
    "\n",
    "And growth rate is typically expressed as a percentage of the initial value and can be calculated using the formula:\n",
    "\n",
    "$ \\text{Growth Rate} = \\left( \\frac{{\\text{Growth}}}{{\\text{Total Sales Last Year}}} \\right) \\times 100 $\n",
    "\n",
    "Can you help them calculate what the growth and growth rate?"
   ]
  },
  {
   "cell_type": "code",
   "execution_count": 19,
   "id": "5028e108",
   "metadata": {},
   "outputs": [
    {
     "name": "stdout",
     "output_type": "stream",
     "text": [
      "Growth: 137616.03\n",
      "Growth Rate: 0.68 %\n"
     ]
    }
   ],
   "source": [
    "# Complete these two function to print the growth and growth rate\n",
    "def compute_growth(df):    \n",
    "    sum_sales_prev_year = compute_total_sales(df,\"Unit_Price_Last_Year\",\"Sales_Quantity_Last_Year\")\n",
    "    sum_sales_now = compute_total_sales(df,\"Unit_Price\",\"Sales_Quantity\")\n",
    "    growth = sum_sales_now - sum_sales_prev_year\n",
    "    return growth\n",
    "\n",
    "def compute_growth_rate(df):\n",
    "    sum_sales_prev_year = compute_total_sales(df,\"Unit_Price_Last_Year\",\"Sales_Quantity_Last_Year\")\n",
    "    growth_rate = (compute_growth(external_df)/sum_sales_prev_year)*100\n",
    "    return growth_rate\n",
    "\n",
    "print(\"Growth: {:.2f}\".format( compute_growth(external_df)))\n",
    "print(\"Growth Rate: {:.2f} %\".format( compute_growth_rate(external_df)))"
   ]
  },
  {
   "cell_type": "markdown",
   "id": "50c09e47",
   "metadata": {},
   "source": [
    "# Silver medal: Database merging and deleting\n",
    "\n",
    "a) In a further step, the company wanted to know how much money it had made this year. For this purpose, they provide another internal dataset for this year that captures the profit margin for each product, the promotional inputs they spend, and fixed costs as the sum of other expenses.\n",
    "\n",
    "The equation for the total profit is:\n",
    "\n",
    "### $\\text{Total Profit} = \\sum \\left( \\text{Sales} \\times \\text{Profit Margin} - \\text{Fixed Costs} \\right)$\n",
    "\n",
    "The sales here is the sales for one prodoct, and the summation sumes over all products.\n",
    "\n",
    "Can you combine these two sets of data into one and calculate the total profit?"
   ]
  },
  {
   "cell_type": "code",
   "execution_count": 27,
   "id": "7bf0b45c-1f80-497d-a754-569e0c5e7070",
   "metadata": {},
   "outputs": [
    {
     "data": {
      "text/html": [
       "<div>\n",
       "<style scoped>\n",
       "    .dataframe tbody tr th:only-of-type {\n",
       "        vertical-align: middle;\n",
       "    }\n",
       "\n",
       "    .dataframe tbody tr th {\n",
       "        vertical-align: top;\n",
       "    }\n",
       "\n",
       "    .dataframe thead th {\n",
       "        text-align: right;\n",
       "    }\n",
       "</style>\n",
       "<table border=\"1\" class=\"dataframe\">\n",
       "  <thead>\n",
       "    <tr style=\"text-align: right;\">\n",
       "      <th></th>\n",
       "      <th>Product_Index</th>\n",
       "      <th>Profit_Margin</th>\n",
       "      <th>Promotional_Input</th>\n",
       "      <th>Fixed_Costs</th>\n",
       "    </tr>\n",
       "  </thead>\n",
       "  <tbody>\n",
       "    <tr>\n",
       "      <th>0</th>\n",
       "      <td>15796</td>\n",
       "      <td>0.189</td>\n",
       "      <td>12559</td>\n",
       "      <td>378.59</td>\n",
       "    </tr>\n",
       "    <tr>\n",
       "      <th>1</th>\n",
       "      <td>15797</td>\n",
       "      <td>0.049</td>\n",
       "      <td>4368</td>\n",
       "      <td>552.38</td>\n",
       "    </tr>\n",
       "    <tr>\n",
       "      <th>2</th>\n",
       "      <td>15798</td>\n",
       "      <td>0.154</td>\n",
       "      <td>4797</td>\n",
       "      <td>785.81</td>\n",
       "    </tr>\n",
       "    <tr>\n",
       "      <th>3</th>\n",
       "      <td>15799</td>\n",
       "      <td>0.062</td>\n",
       "      <td>16114</td>\n",
       "      <td>945.05</td>\n",
       "    </tr>\n",
       "    <tr>\n",
       "      <th>4</th>\n",
       "      <td>15800</td>\n",
       "      <td>0.027</td>\n",
       "      <td>14718</td>\n",
       "      <td>1205.82</td>\n",
       "    </tr>\n",
       "  </tbody>\n",
       "</table>\n",
       "</div>"
      ],
      "text/plain": [
       "   Product_Index  Profit_Margin  Promotional_Input  Fixed_Costs\n",
       "0          15796          0.189              12559       378.59\n",
       "1          15797          0.049               4368       552.38\n",
       "2          15798          0.154               4797       785.81\n",
       "3          15799          0.062              16114       945.05\n",
       "4          15800          0.027              14718      1205.82"
      ]
     },
     "execution_count": 27,
     "metadata": {},
     "output_type": "execute_result"
    }
   ],
   "source": [
    "internal_df = pd.read_csv(\"data_company_A_internal.csv\")\n",
    "internal_df.head()"
   ]
  },
  {
   "cell_type": "code",
   "execution_count": 28,
   "id": "9993a907-0eae-4922-ad3d-2c3df5d81557",
   "metadata": {},
   "outputs": [
    {
     "data": {
      "text/html": [
       "<div>\n",
       "<style scoped>\n",
       "    .dataframe tbody tr th:only-of-type {\n",
       "        vertical-align: middle;\n",
       "    }\n",
       "\n",
       "    .dataframe tbody tr th {\n",
       "        vertical-align: top;\n",
       "    }\n",
       "\n",
       "    .dataframe thead th {\n",
       "        text-align: right;\n",
       "    }\n",
       "</style>\n",
       "<table border=\"1\" class=\"dataframe\">\n",
       "  <thead>\n",
       "    <tr style=\"text-align: right;\">\n",
       "      <th></th>\n",
       "      <th>Buyer_ID</th>\n",
       "      <th>Product_Index</th>\n",
       "      <th>Category</th>\n",
       "      <th>Unit_Price</th>\n",
       "      <th>Sales_Quantity</th>\n",
       "      <th>Unit_Price_Last_Year</th>\n",
       "      <th>Sales_Quantity_Last_Year</th>\n",
       "      <th>Profit_Margin</th>\n",
       "      <th>Promotional_Input</th>\n",
       "      <th>Fixed_Costs</th>\n",
       "    </tr>\n",
       "  </thead>\n",
       "  <tbody>\n",
       "    <tr>\n",
       "      <th>0</th>\n",
       "      <td>KISSJ</td>\n",
       "      <td>15796</td>\n",
       "      <td>Decorations</td>\n",
       "      <td>0.93</td>\n",
       "      <td>13585</td>\n",
       "      <td>0.93</td>\n",
       "      <td>13585</td>\n",
       "      <td>0.189</td>\n",
       "      <td>12559</td>\n",
       "      <td>378.59</td>\n",
       "    </tr>\n",
       "    <tr>\n",
       "      <th>1</th>\n",
       "      <td>KISSJ</td>\n",
       "      <td>15797</td>\n",
       "      <td>Decorations</td>\n",
       "      <td>2.31</td>\n",
       "      <td>7980</td>\n",
       "      <td>2.31</td>\n",
       "      <td>7980</td>\n",
       "      <td>0.049</td>\n",
       "      <td>4368</td>\n",
       "      <td>552.38</td>\n",
       "    </tr>\n",
       "    <tr>\n",
       "      <th>2</th>\n",
       "      <td>KISSJ</td>\n",
       "      <td>15798</td>\n",
       "      <td>Toys</td>\n",
       "      <td>12.18</td>\n",
       "      <td>2153</td>\n",
       "      <td>12.18</td>\n",
       "      <td>2153</td>\n",
       "      <td>0.154</td>\n",
       "      <td>4797</td>\n",
       "      <td>785.81</td>\n",
       "    </tr>\n",
       "    <tr>\n",
       "      <th>3</th>\n",
       "      <td>KISSJ</td>\n",
       "      <td>15799</td>\n",
       "      <td>Toys</td>\n",
       "      <td>1.46</td>\n",
       "      <td>21601</td>\n",
       "      <td>1.46</td>\n",
       "      <td>21601</td>\n",
       "      <td>0.062</td>\n",
       "      <td>16114</td>\n",
       "      <td>945.05</td>\n",
       "    </tr>\n",
       "    <tr>\n",
       "      <th>4</th>\n",
       "      <td>KISSJ</td>\n",
       "      <td>15800</td>\n",
       "      <td>Decorations</td>\n",
       "      <td>4.23</td>\n",
       "      <td>9513</td>\n",
       "      <td>4.23</td>\n",
       "      <td>9513</td>\n",
       "      <td>0.027</td>\n",
       "      <td>14718</td>\n",
       "      <td>1205.82</td>\n",
       "    </tr>\n",
       "  </tbody>\n",
       "</table>\n",
       "</div>"
      ],
      "text/plain": [
       "  Buyer_ID  Product_Index     Category  Unit_Price  Sales_Quantity  \\\n",
       "0    KISSJ          15796  Decorations        0.93           13585   \n",
       "1    KISSJ          15797  Decorations        2.31            7980   \n",
       "2    KISSJ          15798         Toys       12.18            2153   \n",
       "3    KISSJ          15799         Toys        1.46           21601   \n",
       "4    KISSJ          15800  Decorations        4.23            9513   \n",
       "\n",
       "   Unit_Price_Last_Year  Sales_Quantity_Last_Year  Profit_Margin  \\\n",
       "0                  0.93                     13585          0.189   \n",
       "1                  2.31                      7980          0.049   \n",
       "2                 12.18                      2153          0.154   \n",
       "3                  1.46                     21601          0.062   \n",
       "4                  4.23                      9513          0.027   \n",
       "\n",
       "   Promotional_Input  Fixed_Costs  \n",
       "0              12559       378.59  \n",
       "1               4368       552.38  \n",
       "2               4797       785.81  \n",
       "3              16114       945.05  \n",
       "4              14718      1205.82  "
      ]
     },
     "execution_count": 28,
     "metadata": {},
     "output_type": "execute_result"
    }
   ],
   "source": [
    "# You can combine these two sets of data here\n",
    "merged_df = external_df.merge(internal_df,on=\"Product_Index\")\n",
    "merged_df.head()"
   ]
  },
  {
   "cell_type": "code",
   "execution_count": 29,
   "id": "7a643cb0",
   "metadata": {},
   "outputs": [
    {
     "name": "stdout",
     "output_type": "stream",
     "text": [
      "Total Profit: 150378.92\n"
     ]
    }
   ],
   "source": [
    "# Start to calculate the total profit\n",
    "def compute_total_profit(merged_df):\n",
    "    calculation = np.sum((merged_df[\"Sales_Quantity\"] * merged_df[\"Profit_Margin\"]) - merged_df[\"Fixed_Costs\"])\n",
    "    return calculation\n",
    "\n",
    "print(f\"Total Profit: {compute_total_profit(merged_df):.2f}\")"
   ]
  },
  {
   "cell_type": "markdown",
   "id": "265d6ca4",
   "metadata": {},
   "source": [
    "b) Two buyers (buyer IDs: \"IFKKSE\" and \"IFYWAB\") cancelled their orders on short notice. In this case we would like to delete the corresponding products and calculate the new profit."
   ]
  },
  {
   "cell_type": "code",
   "execution_count": 37,
   "id": "af76ab21",
   "metadata": {},
   "outputs": [
    {
     "name": "stdout",
     "output_type": "stream",
     "text": [
      "New Profit: 148879.76\n"
     ]
    }
   ],
   "source": [
    "# Start to calculate new profit after removing certain buyers\n",
    "def compute_profit_delete(df):\n",
    "    to_drop = df[df[\"Buyer_ID\"].isin([\"IFKKSE\",\"IFYWAB\"])]\n",
    "    df = df.drop(to_drop.index)\n",
    "    calculation = np.sum((df[\"Sales_Quantity\"] * df[\"Profit_Margin\"]) - df[\"Fixed_Costs\"])\n",
    "    return calculation\n",
    "\n",
    "print(f\"New Profit: {compute_profit_delete(merged_df):.2f}\")"
   ]
  },
  {
   "cell_type": "markdown",
   "id": "a033601a",
   "metadata": {},
   "source": [
    "c) While in practice, it is often not possible to simply delete entries from the database. Technically, this can cause problems for other functions that depend on the entry. And in the commercial sector, there are often additional trading rules to solve these problems.\n",
    "\n",
    "Now let's assume that a common treatment taken by this company is to return the products to the manufacturer. And when they return the corresponding products to the manufacturer, the manufacturer refunds them only 80% of the unit price.\n",
    "\n",
    "Can you calculate the profit in this case? Do you need to re-import the database when you complete this step?"
   ]
  },
  {
   "cell_type": "code",
   "execution_count": 61,
   "id": "bac28da3",
   "metadata": {},
   "outputs": [
    {
     "data": {
      "text/html": [
       "<div>\n",
       "<style scoped>\n",
       "    .dataframe tbody tr th:only-of-type {\n",
       "        vertical-align: middle;\n",
       "    }\n",
       "\n",
       "    .dataframe tbody tr th {\n",
       "        vertical-align: top;\n",
       "    }\n",
       "\n",
       "    .dataframe thead th {\n",
       "        text-align: right;\n",
       "    }\n",
       "</style>\n",
       "<table border=\"1\" class=\"dataframe\">\n",
       "  <thead>\n",
       "    <tr style=\"text-align: right;\">\n",
       "      <th></th>\n",
       "      <th>Buyer_ID</th>\n",
       "      <th>Product_Index</th>\n",
       "      <th>Category</th>\n",
       "      <th>Unit_Price</th>\n",
       "      <th>Sales_Quantity</th>\n",
       "      <th>Unit_Price_Last_Year</th>\n",
       "      <th>Sales_Quantity_Last_Year</th>\n",
       "      <th>Profit_Margin</th>\n",
       "      <th>Promotional_Input</th>\n",
       "      <th>Fixed_Costs</th>\n",
       "    </tr>\n",
       "  </thead>\n",
       "  <tbody>\n",
       "    <tr>\n",
       "      <th>0</th>\n",
       "      <td>KISSJ</td>\n",
       "      <td>15796</td>\n",
       "      <td>Decorations</td>\n",
       "      <td>0.93</td>\n",
       "      <td>13585</td>\n",
       "      <td>0.93</td>\n",
       "      <td>13585</td>\n",
       "      <td>0.189</td>\n",
       "      <td>12559</td>\n",
       "      <td>378.59</td>\n",
       "    </tr>\n",
       "    <tr>\n",
       "      <th>1</th>\n",
       "      <td>KISSJ</td>\n",
       "      <td>15797</td>\n",
       "      <td>Decorations</td>\n",
       "      <td>2.31</td>\n",
       "      <td>7980</td>\n",
       "      <td>2.31</td>\n",
       "      <td>7980</td>\n",
       "      <td>0.049</td>\n",
       "      <td>4368</td>\n",
       "      <td>552.38</td>\n",
       "    </tr>\n",
       "    <tr>\n",
       "      <th>2</th>\n",
       "      <td>KISSJ</td>\n",
       "      <td>15798</td>\n",
       "      <td>Toys</td>\n",
       "      <td>12.18</td>\n",
       "      <td>2153</td>\n",
       "      <td>12.18</td>\n",
       "      <td>2153</td>\n",
       "      <td>0.154</td>\n",
       "      <td>4797</td>\n",
       "      <td>785.81</td>\n",
       "    </tr>\n",
       "    <tr>\n",
       "      <th>3</th>\n",
       "      <td>KISSJ</td>\n",
       "      <td>15799</td>\n",
       "      <td>Toys</td>\n",
       "      <td>1.46</td>\n",
       "      <td>21601</td>\n",
       "      <td>1.46</td>\n",
       "      <td>21601</td>\n",
       "      <td>0.062</td>\n",
       "      <td>16114</td>\n",
       "      <td>945.05</td>\n",
       "    </tr>\n",
       "    <tr>\n",
       "      <th>4</th>\n",
       "      <td>KISSJ</td>\n",
       "      <td>15800</td>\n",
       "      <td>Decorations</td>\n",
       "      <td>4.23</td>\n",
       "      <td>9513</td>\n",
       "      <td>4.23</td>\n",
       "      <td>9513</td>\n",
       "      <td>0.027</td>\n",
       "      <td>14718</td>\n",
       "      <td>1205.82</td>\n",
       "    </tr>\n",
       "    <tr>\n",
       "      <th>...</th>\n",
       "      <td>...</td>\n",
       "      <td>...</td>\n",
       "      <td>...</td>\n",
       "      <td>...</td>\n",
       "      <td>...</td>\n",
       "      <td>...</td>\n",
       "      <td>...</td>\n",
       "      <td>...</td>\n",
       "      <td>...</td>\n",
       "      <td>...</td>\n",
       "    </tr>\n",
       "    <tr>\n",
       "      <th>615</th>\n",
       "      <td>UFNJI</td>\n",
       "      <td>15894</td>\n",
       "      <td>Toys</td>\n",
       "      <td>12.21</td>\n",
       "      <td>3676</td>\n",
       "      <td>12.21</td>\n",
       "      <td>3676</td>\n",
       "      <td>0.038</td>\n",
       "      <td>12604</td>\n",
       "      <td>2001.68</td>\n",
       "    </tr>\n",
       "    <tr>\n",
       "      <th>616</th>\n",
       "      <td>UFNJI</td>\n",
       "      <td>15895</td>\n",
       "      <td>Decorations</td>\n",
       "      <td>2.61</td>\n",
       "      <td>13367</td>\n",
       "      <td>2.61</td>\n",
       "      <td>13367</td>\n",
       "      <td>0.011</td>\n",
       "      <td>10713</td>\n",
       "      <td>1555.88</td>\n",
       "    </tr>\n",
       "    <tr>\n",
       "      <th>617</th>\n",
       "      <td>UFNJI</td>\n",
       "      <td>15896</td>\n",
       "      <td>Decorations</td>\n",
       "      <td>3.11</td>\n",
       "      <td>15458</td>\n",
       "      <td>3.11</td>\n",
       "      <td>15458</td>\n",
       "      <td>0.023</td>\n",
       "      <td>18885</td>\n",
       "      <td>2143.96</td>\n",
       "    </tr>\n",
       "    <tr>\n",
       "      <th>618</th>\n",
       "      <td>UFNJI</td>\n",
       "      <td>15897</td>\n",
       "      <td>Decorations</td>\n",
       "      <td>1.45</td>\n",
       "      <td>9923</td>\n",
       "      <td>1.45</td>\n",
       "      <td>9923</td>\n",
       "      <td>0.027</td>\n",
       "      <td>3473</td>\n",
       "      <td>641.67</td>\n",
       "    </tr>\n",
       "    <tr>\n",
       "      <th>619</th>\n",
       "      <td>UFNJI</td>\n",
       "      <td>15898</td>\n",
       "      <td>Toys</td>\n",
       "      <td>0.63</td>\n",
       "      <td>8576</td>\n",
       "      <td>0.63</td>\n",
       "      <td>8576</td>\n",
       "      <td>0.066</td>\n",
       "      <td>1735</td>\n",
       "      <td>240.95</td>\n",
       "    </tr>\n",
       "  </tbody>\n",
       "</table>\n",
       "<p>620 rows × 10 columns</p>\n",
       "</div>"
      ],
      "text/plain": [
       "    Buyer_ID  Product_Index     Category  Unit_Price  Sales_Quantity  \\\n",
       "0      KISSJ          15796  Decorations        0.93           13585   \n",
       "1      KISSJ          15797  Decorations        2.31            7980   \n",
       "2      KISSJ          15798         Toys       12.18            2153   \n",
       "3      KISSJ          15799         Toys        1.46           21601   \n",
       "4      KISSJ          15800  Decorations        4.23            9513   \n",
       "..       ...            ...          ...         ...             ...   \n",
       "615    UFNJI          15894         Toys       12.21            3676   \n",
       "616    UFNJI          15895  Decorations        2.61           13367   \n",
       "617    UFNJI          15896  Decorations        3.11           15458   \n",
       "618    UFNJI          15897  Decorations        1.45            9923   \n",
       "619    UFNJI          15898         Toys        0.63            8576   \n",
       "\n",
       "     Unit_Price_Last_Year  Sales_Quantity_Last_Year  Profit_Margin  \\\n",
       "0                    0.93                     13585          0.189   \n",
       "1                    2.31                      7980          0.049   \n",
       "2                   12.18                      2153          0.154   \n",
       "3                    1.46                     21601          0.062   \n",
       "4                    4.23                      9513          0.027   \n",
       "..                    ...                       ...            ...   \n",
       "615                 12.21                      3676          0.038   \n",
       "616                  2.61                     13367          0.011   \n",
       "617                  3.11                     15458          0.023   \n",
       "618                  1.45                      9923          0.027   \n",
       "619                  0.63                      8576          0.066   \n",
       "\n",
       "     Promotional_Input  Fixed_Costs  \n",
       "0                12559       378.59  \n",
       "1                 4368       552.38  \n",
       "2                 4797       785.81  \n",
       "3                16114       945.05  \n",
       "4                14718      1205.82  \n",
       "..                 ...          ...  \n",
       "615              12604      2001.68  \n",
       "616              10713      1555.88  \n",
       "617              18885      2143.96  \n",
       "618               3473       641.67  \n",
       "619               1735       240.95  \n",
       "\n",
       "[620 rows x 10 columns]"
      ]
     },
     "execution_count": 61,
     "metadata": {},
     "output_type": "execute_result"
    }
   ],
   "source": [
    "merged_df"
   ]
  },
  {
   "cell_type": "code",
   "execution_count": 68,
   "id": "65e8a2fe",
   "metadata": {},
   "outputs": [
    {
     "name": "stderr",
     "output_type": "stream",
     "text": [
      "C:\\Users\\sebgr\\AppData\\Local\\Temp\\ipykernel_3488\\1574075079.py:4: SettingWithCopyWarning: \n",
      "A value is trying to be set on a copy of a slice from a DataFrame.\n",
      "Try using .loc[row_indexer,col_indexer] = value instead\n",
      "\n",
      "See the caveats in the documentation: https://pandas.pydata.org/pandas-docs/stable/user_guide/indexing.html#returning-a-view-versus-a-copy\n",
      "  select_rows[\"Unit_Price\"] *= 0.8\n"
     ]
    },
    {
     "data": {
      "text/plain": [
       "20692.799700480005"
      ]
     },
     "execution_count": 68,
     "metadata": {},
     "output_type": "execute_result"
    }
   ],
   "source": [
    "#rows with refund\n",
    "specific_buyer_ids = [\"IFKKSE\", \"IFYWAB\"]\n",
    "select_rows = merged_df[merged_df[\"Buyer_ID\"].isin(specific_buyer_ids)]\n",
    "refund = (select_rows[\"Unit_Price\"] *0.2)*select_rows[\"Sales_Quantity\"]\n",
    "profit_refund = (select_rows[\"Profit_Margin\"] * refund)\n",
    "calculation_with_refund = np.sum(profit_refund)\n",
    "sum(profit_refund)\n"
   ]
  },
  {
   "cell_type": "code",
   "execution_count": 67,
   "id": "06d16133",
   "metadata": {},
   "outputs": [],
   "source": [
    "specific_buyer_ids = [\"IFKKSE\", \"IFYWAB\"]\n",
    "select_rows = merged_df[merged_df[\"Buyer_ID\"].isin(specific_buyer_ids)]\n",
    "refund = (select_rows[\"Unit_Price\"] *0.2)*select_rows[\"Sales_Quantity\"]"
   ]
  },
  {
   "cell_type": "code",
   "execution_count": 60,
   "id": "28100311",
   "metadata": {},
   "outputs": [
    {
     "name": "stdout",
     "output_type": "stream",
     "text": [
      "Profit with Adjustments: -167720.96\n"
     ]
    }
   ],
   "source": [
    "# Start to calculate profit with refunds from manufacturer\n",
    "def compute_profit_refund(df):\n",
    "    #for rows without refund\n",
    "    to_drop = df[df[\"Buyer_ID\"].isin([\"IFKKSE\",\"IFYWAB\"])]\n",
    "    df_no_refund = df.drop(to_drop.index)\n",
    "    calculation_no_refund = np.sum((df_no_refund[\"Sales_Quantity\"] * df_no_refund[\"Profit_Margin\"]) - df_no_refund[\"Fixed_Costs\"])\n",
    "\n",
    "    #rows with refund\n",
    "    specific_buyer_ids = [\"IFKKSE\", \"IFYWAB\"]\n",
    "    select_rows = df[df[\"Buyer_ID\"].isin(specific_buyer_ids)]\n",
    "    refund = (select_rows[\"Unit_Price\"] *0.2)*select_rows[\"Sales_Quantity\"]\n",
    "    profit_refund = (select_rows[\"Profit_Margin\"] * select_rows[\"Sales_Quantity\"] * select_rows[\"Unit_Price\"]) - (refund)\n",
    "    calculation_with_refund = np.sum(profit_refund)\n",
    "\n",
    "    total_profit = calculation_no_refund + calculation_with_refund\n",
    "\n",
    "    return total_profit\n",
    "\n",
    "print(f\"Profit with Adjustments: {compute_profit_refund(merged_df):.2f}\")"
   ]
  },
  {
   "cell_type": "markdown",
   "id": "80137b3e",
   "metadata": {},
   "source": [
    "# Gold medal: Data filtering and grouping\n",
    "\n",
    "a) We would like to discover further information hidden in the data. Can you plot sales against promotional inputs and check if some kind of pattern exists? \n",
    "\n",
    "If you have found some patterns, you can move on to the next question. If not, at the end of this content (the part marked by *) we have provided two hints for you to use at your leisure.\n",
    "\n",
    "(Note again, the patterns in this question is not the actual law of the market.)"
   ]
  },
  {
   "cell_type": "code",
   "execution_count": null,
   "id": "4cac80b2-b920-4519-afbf-7384074a717f",
   "metadata": {},
   "outputs": [],
   "source": []
  },
  {
   "cell_type": "markdown",
   "id": "31627561",
   "metadata": {},
   "source": [
    "b) According to the observed patterns, if there is a product belonging to the \"Decorations\" category and the company spends $15,000 on its promotional input, how many sales can be expected? (Try to estimate its value, or choose an answer from the following options)"
   ]
  },
  {
   "cell_type": "code",
   "execution_count": null,
   "id": "c96b671d",
   "metadata": {},
   "outputs": [],
   "source": [
    "# start estimating the sales, you could import other package if you want.\n",
    "def estimate_sales(df):\n",
    "    # TO DO\n",
    "    pass\n",
    "    return # TO DO\n",
    "\n",
    "# Select an answer for the sales prediction, pay attention that the dictionary key is capitalized.\n",
    "def select_answer(df):\n",
    "    answer_ranges = {\n",
    "        'A': 'Between 30000 and 34000',\n",
    "        'B': 'Between 34000 and 38000',\n",
    "        'C': 'Between 38000 and 42000',\n",
    "        'D': 'Between 42000 and 46000',\n",
    "        'E': 'Between 46000 and 50000',\n",
    "        'F': 'Between 50000 and 60000',\n",
    "    }\n",
    "    return # TO DO, solution can be selected here\n",
    "\n",
    "if select_answer(merged_df) is None:\n",
    "    print(\"Estimated sales for a Decorations product with $15,000 in promotional inputs: {:.2f}\".format(estimate_sales(merged_df)))\n",
    "else:\n",
    "    print(\"Estimated sales for a Decorations product with $15,000 in promotional inputs: {:s}\".format(select_answer(merged_df)))"
   ]
  },
  {
   "cell_type": "markdown",
   "id": "4abf85c3",
   "metadata": {},
   "source": [
    "*: Here are two hints for the gold Medal, they will make this task easier. You can try to find the pattern by yourself and then check the hints at some point later."
   ]
  },
  {
   "cell_type": "code",
   "execution_count": null,
   "id": "b215c0c5-45c8-4abc-87f6-5284b5518c07",
   "metadata": {},
   "outputs": [],
   "source": [
    "# Run the following code to show hint 1\n",
    "print(base64.b64decode(\"SGludCAxOiBUaGUgdGFibGUgY29udGFpbnMgYWxsIGtpbmRzIG9mIHByb2R1Y3RzIG9mIHRoZSBjb21wYW55LCB3aGljaCBtYXkgYWxzbyBjb250YWluIHNwZWNpYWwgcHJvZHVjdHMgb3IgcHJvZHVjdHMgc29sZCB0aHJvdWdoIHNwZWNpYWwgbWV0aG9kcy4gU3VjaCBwcm9kdWN0cyBhcmUgY2hhcmFjdGVyaXplZCBieSB0aGUgZmFjdCB0aGF0IHRoZXkgd2lsbCB1c3VhbGx5IGhhdmUgZXhjZXB0aW9uYWxseSBoaWdoIG9yIGxvdyBwcm9maXQgbWFyZ2lucy4=\").decode())"
   ]
  },
  {
   "cell_type": "code",
   "execution_count": null,
   "id": "170f6f35-86b9-459f-a2e2-d4aa8449d517",
   "metadata": {},
   "outputs": [],
   "source": [
    "# Run the following code to show hint 2\n",
    "print(base64.b64decode(\"SGludCAyOiBEaWZmZXJlbnQgcHJvZHVjdCBjYXRlZ29yaWVzIGhhdmUgZGlmZmVyZW50IG1hcmtldHMgYW5kIG1heSBoYXZlIGRpZmZlcmVudCBwYXR0ZXJucy4=\").decode())"
   ]
  }
 ],
 "metadata": {
  "kernelspec": {
   "display_name": "AsiaInReview",
   "language": "python",
   "name": "python3"
  },
  "language_info": {
   "codemirror_mode": {
    "name": "ipython",
    "version": 3
   },
   "file_extension": ".py",
   "mimetype": "text/x-python",
   "name": "python",
   "nbconvert_exporter": "python",
   "pygments_lexer": "ipython3",
   "version": "3.9.17"
  }
 },
 "nbformat": 4,
 "nbformat_minor": 5
}
